{
 "cells": [
  {
   "cell_type": "code",
   "execution_count": 7,
   "id": "ed741fb2",
   "metadata": {},
   "outputs": [],
   "source": [
    "import pyvista as pv\n",
    "import numpy as np\n",
    "from scipy.spatial import KDTree\n",
    "from collections import defaultdict, deque\n",
    "\n",
    "def build_vertex_adjacency(mesh: pv.PolyData) -> dict[int, set[int]]:\n",
    "    faces = mesh.faces.reshape((-1, 4))[:, 1:]\n",
    "    adjacency: dict[int, set[int]] = defaultdict(set)\n",
    "\n",
    "    for i, j, k in faces:\n",
    "        adjacency[i].update((j, k))\n",
    "        adjacency[j].update((i, k))\n",
    "        adjacency[k].update((i, j))\n",
    "\n",
    "    return adjacency\n",
    "\n",
    "def get_sorted_neighbors_by_curvature(vertex_id: int,\n",
    "                                      adjacency: dict[int, set[int]],\n",
    "                                      curvature: np.ndarray) -> list[int]:\n",
    "    \"\"\"\n",
    "    Get neighboring vertices of a given vertex, sorted by decreasing curvature.\n",
    "\n",
    "    Parameters:\n",
    "        vertex_id (int): The index of the query vertex.\n",
    "        adjacency (dict[int, set[int]]): Adjacency map from build_vertex_adjacency.\n",
    "        curvature (np.ndarray): Array of curvature values for all vertices.\n",
    "\n",
    "    Returns:\n",
    "        list[int]: Neighboring vertex indices sorted by descending curvature.\n",
    "    \"\"\"\n",
    "    neighbors = list(adjacency[vertex_id])\n",
    "    neighbors_sorted = sorted(neighbors, key=lambda idx: curvature[idx], reverse=True)\n",
    "    return neighbors_sorted\n",
    "\n",
    "\n",
    "def max_unvisited_curvature_point(curvature: np.ndarray, visited_points: set | list) -> int:\n",
    "    visited_set = set(visited_points)\n",
    "    \n",
    "    if len(visited_set) >= len(curvature):\n",
    "        raise Exception(\"All points have been visited.\")\n",
    "\n",
    "    # Use masked array to ignore visited points efficiently\n",
    "    mask = np.ones_like(curvature, dtype=bool)\n",
    "    mask[list(visited_set)] = False\n",
    "    unvisited_curvatures = np.ma.masked_array(curvature, ~mask)\n",
    "\n",
    "    return int(np.argmax(unvisited_curvatures))\n",
    "\n",
    "# ====== Three functions to check whether a point is on edge ======\n",
    "\n",
    "'''\n",
    "The three functions are implemented based on algorithm of section 2 of\n",
    "    \"Edge and Corner Detection for Unorganized 3D Point Clouds with\n",
    "    Application to Robotic Welding\"\n",
    "\n",
    "Pipeline along each function:\n",
    "    1. Find k-nearest neighbors using KDTree.\n",
    "    2. Compute the centroid of the neighbors.\n",
    "    3. Compare the centroid-to-query distance against λ * min neighbor distance.\n",
    "'''\n",
    "\n",
    "def knn_KDTree(points: np.ndarray, query_id: int, k: int) -> np.ndarray:\n",
    "    tree = KDTree(points)\n",
    "    query_point = points[query_id]\n",
    "    distances, indices = tree.query(query_point, k=k+1)\n",
    "    return indices[1:]  # Exclude the query point itself\n",
    "\n",
    "def compute_centroid_of_neighbors(points: np.ndarray, neighbor_ids: np.ndarray) -> np.ndarray:\n",
    "    neighbors = points[neighbor_ids]\n",
    "    centroid = np.mean(neighbors, axis=0)\n",
    "    return centroid\n",
    "\n",
    "def check_edge_point(points: np.ndarray, query_id: int, neighbor_ids: np.ndarray,\n",
    "                           centroid: np.ndarray, lam: float) -> bool:\n",
    "    query_point = points[query_id]\n",
    "    neighbor_points = points[neighbor_ids]\n",
    "    distances = np.linalg.norm(neighbor_points - query_point, axis=1)\n",
    "    Z_i = np.min(distances)\n",
    "    distance_centroid = np.linalg.norm(centroid - query_point)\n",
    "    return distance_centroid > lam * Z_i\n",
    "\n",
    "# ================================================================="
   ]
  },
  {
   "cell_type": "code",
   "execution_count": 8,
   "id": "9be6ee1d",
   "metadata": {},
   "outputs": [],
   "source": [
    "def laplacian_smoothing(mesh: pv.PolyData, iterations=3):\n",
    "    \n",
    "    # Extract face indices (reshape from PyVista's format)\n",
    "    faces = mesh.faces.reshape((-1, 4))[:, 1:]  # Drop the leading \"3\" of each triangle\n",
    "\n",
    "    adjacency = build_vertex_adjacency(mesh)\n",
    "\n",
    "    points = mesh.points.copy()\n",
    "\n",
    "    for _ in range(iterations):\n",
    "        new_points = points.copy()\n",
    "        for i in range(len(points)):\n",
    "            neighbors = list(adjacency[i])\n",
    "            if not neighbors:\n",
    "                continue\n",
    "            neighbor_coords = points[neighbors]\n",
    "            new_points[i] = neighbor_coords.mean(axis=0)\n",
    "        points = new_points  # update for next iteration\n",
    "\n",
    "    # Create a new smoothed mesh to avoid altering the original\n",
    "    smoothed_mesh = pv.PolyData(points, mesh.faces)\n",
    "    return smoothed_mesh"
   ]
  },
  {
   "cell_type": "code",
   "execution_count": 9,
   "id": "04efda15",
   "metadata": {},
   "outputs": [],
   "source": [
    "import numpy as np\n",
    "from scipy.spatial import KDTree\n",
    "\n",
    "def is_edge_point_pipeline(points: np.ndarray, query_id: int, k: int, lam: float) -> bool:\n",
    "    # Execute full pipeline\n",
    "    neighbor_ids = knn_KDTree(points, query_id, k)\n",
    "    centroid = compute_centroid_of_neighbors(points, neighbor_ids)\n",
    "    return check_edge_point(points, query_id, neighbor_ids, centroid, lam)\n"
   ]
  },
  {
   "cell_type": "code",
   "execution_count": 10,
   "id": "965846cc",
   "metadata": {},
   "outputs": [],
   "source": [
    "# Đọc mesh từ file .obj\n",
    "mesh = pv.read('../CG_dataset/cube_subdivide.obj')\n",
    "# mesh = laplacian_smoothing(mesh)  \n",
    "curvature = mesh.curvature(curv_type='mean')\n",
    "clim = [np.percentile(curvature, 3), np.percentile(curvature, 90)]\n",
    "\n",
    "adj = build_vertex_adjacency(mesh)\n",
    "\n",
    "points = mesh.points\n",
    "\n",
    "k = 20               # Số điểm lân cận\n",
    "lam = 2.0            # Hệ số λ\n",
    "\n",
    "num_start_points = 10\n",
    "\n",
    "visited_points = set()\n",
    "edge_points = set()\n",
    "\n",
    "# for i in range(mesh.n_points):\n",
    "#     if is_edge_point_pipeline(points, i, k, lam):\n",
    "#         edge_points.add(i)"
   ]
  },
  {
   "cell_type": "code",
   "execution_count": 14,
   "id": "fd9e1add",
   "metadata": {},
   "outputs": [],
   "source": [
    "max_point = max_unvisited_curvature_point(curvature, visited_points)\n",
    "edge_points.add(max_point)"
   ]
  },
  {
   "cell_type": "code",
   "execution_count": 15,
   "id": "061eff1e",
   "metadata": {},
   "outputs": [
    {
     "data": {
      "text/plain": [
       "{0}"
      ]
     },
     "execution_count": 15,
     "metadata": {},
     "output_type": "execute_result"
    }
   ],
   "source": [
    "edge_points"
   ]
  },
  {
   "cell_type": "code",
   "execution_count": 16,
   "id": "398ea243",
   "metadata": {},
   "outputs": [
    {
     "data": {
      "application/vnd.jupyter.widget-view+json": {
       "model_id": "ecd2bbe4b8474eb5a70ae9ebe4d1b150",
       "version_major": 2,
       "version_minor": 0
      },
      "text/plain": [
       "Widget(value='<iframe src=\"http://localhost:35203/index.html?ui=P_0x781c1942da30_1&reconnect=auto\" class=\"pyvi…"
      ]
     },
     "metadata": {},
     "output_type": "display_data"
    }
   ],
   "source": [
    "p = pv.Plotter()\n",
    "p.add_mesh(mesh, show_edges=True, scalars=curvature, clim=clim)\n",
    "p.add_mesh(mesh.points[(list(edge_points))], color='red', point_size=10)  \n",
    "\n",
    "p.show()\n"
   ]
  },
  {
   "cell_type": "code",
   "execution_count": 17,
   "id": "3d6940c6",
   "metadata": {},
   "outputs": [],
   "source": [
    "# import nbformat\n",
    "\n",
    "# # 📌 BƯỚC 1: Đặt tên file notebook và file xuất ra\n",
    "# notebook_file = \"edge_detection_unorganized_pc.ipynb\"     # 👉 đổi thành tên notebook của bạn\n",
    "# output_file = \"extract_code_from_ipynb.py\"      # 👉 tên file .py để lưu code\n",
    "\n",
    "# # 📌 BƯỚC 2: Đọc file notebook\n",
    "# with open(notebook_file, \"r\", encoding=\"utf-8\") as f:\n",
    "#     nb = nbformat.read(f, as_version=4)\n",
    "\n",
    "# # 📌 BƯỚC 3: Giả sử ô hiện tại đang chạy là ô cuối cùng (có thể điều chỉnh nếu cần)\n",
    "# current_cell_index = len(nb.cells) - 1\n",
    "\n",
    "# # 📌 BƯỚC 4: Lấy code từ tất cả các cell code phía trên\n",
    "# code_above = \"\"\n",
    "# for i in range(current_cell_index):\n",
    "#     cell = nb.cells[i]\n",
    "#     if cell.cell_type == \"code\":\n",
    "#         code_above += cell.source + \"\\n\\n\"\n",
    "\n",
    "# # 📌 BƯỚC 5: Lưu vào file .py\n",
    "# with open(output_file, \"w\", encoding=\"utf-8\") as f:\n",
    "#     f.write(code_above)\n",
    "\n",
    "# print(f\"✅ Đã lưu mã từ các cell phía trên vào file: {output_file}\")\n"
   ]
  }
 ],
 "metadata": {
  "kernelspec": {
   "display_name": "project3D",
   "language": "python",
   "name": "project3d"
  },
  "language_info": {
   "codemirror_mode": {
    "name": "ipython",
    "version": 3
   },
   "file_extension": ".py",
   "mimetype": "text/x-python",
   "name": "python",
   "nbconvert_exporter": "python",
   "pygments_lexer": "ipython3",
   "version": "3.12.3"
  }
 },
 "nbformat": 4,
 "nbformat_minor": 5
}
