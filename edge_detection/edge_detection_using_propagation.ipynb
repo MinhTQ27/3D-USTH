{
 "cells": [
  {
   "cell_type": "markdown",
   "metadata": {},
   "source": [
    "<span id=\"#toc\" style='font-size: 20pt; font-weight: bold'>TABLE OF CONTENTS</span>\n",
    "\n",
    "<span style='font-size: 15pt; text-decoration: none; display: block;'>\n",
    "  <a href=\"#slidebar\" style=\"font-size: 15pt; text-decoration: none;\">\n",
    "    Slide Bar \n",
    "  </a>\n",
    "</span>"
   ]
  },
  {
   "cell_type": "markdown",
   "metadata": {},
   "source": [
    "<span id='import-lib' style='color:#008000; font-size:20pt; font-weight:bold'>Import Libraries</span>"
   ]
  },
  {
   "cell_type": "code",
   "execution_count": 1,
   "metadata": {},
   "outputs": [
    {
     "name": "stdout",
     "output_type": "stream",
     "text": [
      "Jupyter environment detected. Enabling Open3D WebVisualizer.\n",
      "[Open3D INFO] WebRTC GUI backend enabled.\n",
      "[Open3D INFO] WebRTCWindowSystem: HTTP handshake server disabled.\n"
     ]
    }
   ],
   "source": [
    "import pyvista as pv\n",
    "import numpy as np\n",
    "from collections import deque\n",
    "import open3d as o3d\n",
    "import math\n",
    "import copy"
   ]
  },
  {
   "cell_type": "markdown",
   "metadata": {},
   "source": [
    "<span id='load-data' style='color:#008000; font-size:20pt; font-weight:bold'>Load Data </span>"
   ]
  },
  {
   "cell_type": "code",
   "execution_count": null,
   "metadata": {},
   "outputs": [],
   "source": [
    "# brick_part01 = pv.read('D:\\\\Learn_and_Study\\\\USTH\\\\Bachelor\\\\3D_Project\\\\CG_dataset\\\\brick_part01.obj')"
   ]
  },
  {
   "cell_type": "code",
   "execution_count": 2,
   "metadata": {},
   "outputs": [],
   "source": [
    "pcd = o3d.io.read_point_cloud(\"D:\\\\Learn_and_Study\\\\USTH\\\\Bachelor\\\\3D_Project\\\\CG_dataset\\\\brick_part01_smoothen.pcd\")\n",
    "pcd.estimate_normals(search_param=o3d.geometry.KDTreeSearchParamKNN(knn=30))\n",
    "\n",
    "# RECONSTRUCT SURFACE MESH BY POISSON AND CONVERT INTO PYVISTA\n",
    "mesh_o3d, _ = o3d.geometry.TriangleMesh.create_from_point_cloud_poisson(pcd, depth=8)\n",
    "mesh_o3d.compute_vertex_normals()\n",
    "\n",
    "vertices = np.asarray(mesh_o3d.vertices)\n",
    "triangles = np.asarray(mesh_o3d.triangles)\n",
    "faces = np.hstack([np.full((len(triangles), 1), 3), triangles]).flatten()  # Add face header\n",
    "\n",
    "mesh_pv = pv.PolyData(vertices, faces)"
   ]
  },
  {
   "cell_type": "code",
   "execution_count": 3,
   "metadata": {},
   "outputs": [
    {
     "data": {
      "text/html": [
       "\n",
       "<table style='width: 100%;'>\n",
       "<tr><th>PolyData</th><th>Information</th></tr>\n",
       "<tr><td>N Cells</td><td>278344</td></tr>\n",
       "<tr><td>N Points</td><td>139174</td></tr>\n",
       "<tr><td>N Strips</td><td>0</td></tr>\n",
       "<tr><td>X Bounds</td><td>-3.334e+00, 2.966e+00</td></tr>\n",
       "<tr><td>Y Bounds</td><td>-1.180e+00, 1.877e+00</td></tr>\n",
       "<tr><td>Z Bounds</td><td>-3.381e+00, 3.769e+00</td></tr>\n",
       "<tr><td>N Arrays</td><td>0</td></tr>\n",
       "</table>\n",
       "\n"
      ],
      "text/plain": [
       "PolyData (0x27a52727280)\n",
       "  N Cells:    278344\n",
       "  N Points:   139174\n",
       "  N Strips:   0\n",
       "  X Bounds:   -3.334e+00, 2.966e+00\n",
       "  Y Bounds:   -1.180e+00, 1.877e+00\n",
       "  Z Bounds:   -3.381e+00, 3.769e+00\n",
       "  N Arrays:   0"
      ]
     },
     "execution_count": 3,
     "metadata": {},
     "output_type": "execute_result"
    }
   ],
   "source": [
    "mesh = mesh_pv\n",
    "mesh"
   ]
  },
  {
   "cell_type": "markdown",
   "metadata": {},
   "source": [
    "<span style='color:#008000; font-size:20pt; font-weight:bold'>Curvature</span>"
   ]
  },
  {
   "cell_type": "code",
   "execution_count": 8,
   "metadata": {},
   "outputs": [],
   "source": [
    "curvature = mesh.curvature(curv_type='mean')\n",
    "# min_curv = np.fabs(mesh.curvature(curv_type='minimum'))\n",
    "# max_curv = np.fabs(mesh.curvature(curv_type='maximum'))\n",
    "# curv = np.maximum(min_curv, max_curv)\n",
    "clim = [np.percentile(curvature, 3), np.percentile(curvature, 90)]"
   ]
  },
  {
   "cell_type": "code",
   "execution_count": 5,
   "metadata": {},
   "outputs": [
    {
     "name": "stdout",
     "output_type": "stream",
     "text": [
      "Total points: 139174\n",
      "Min: -184.7804, Max: 1043.7523, Mean: 0.5094\n"
     ]
    },
    {
     "data": {
      "image/png": "[encoded data removed]",
      "text/plain": [
       "<Figure size 1000x600 with 1 Axes>"
      ]
     },
     "metadata": {},
     "output_type": "display_data"
    }
   ],
   "source": [
    "import matplotlib.pyplot as plt\n",
    "\n",
    "print(f\"Total points: {mesh.n_points}\")\n",
    "print(f\"Min: {np.min(curv):.4f}, Max: {np.max(curv):.4f}, Mean: {np.mean(curv):.4f}\")\n",
    "\n",
    "plt.figure(figsize=(10, 6))\n",
    "plt.hist(curv, bins=1000, color='steelblue', edgecolor='black')\n",
    "plt.title(f\"Histogram of Mean Curvature\")\n",
    "plt.xlabel(\"Curvature\"), plt.ylabel(\"Frequency\")\n",
    "plt.grid(True)\n",
    "plt.tight_layout()\n",
    "plt.xlim(np.percentile(curv, 1), np.percentile(curv, 99))\n",
    "plt.show()"
   ]
  },
  {
   "cell_type": "markdown",
   "metadata": {},
   "source": [
    "<span style='color:#008000; font-size:20pt; font-weight:bold'>Neighbors Propagation</span>"
   ]
  },
  {
   "cell_type": "markdown",
   "metadata": {},
   "source": [
    "<span style='color:#007ACC; font-size:15pt; font-weight:bold'>Mesh Simplification and Smoothing</span>"
   ]
  },
  {
   "cell_type": "code",
   "execution_count": null,
   "metadata": {},
   "outputs": [],
   "source": [
    "# import fast_simplification\n",
    "# mesh = fast_simplification.simplify_mesh(brick_part01, target_reduction=0.5)\n",
    "# mesh = mesh.smooth(n_iter=500)  "
   ]
  },
  {
   "cell_type": "markdown",
   "metadata": {},
   "source": [
    "<span style='color:#007ACC; font-size:15pt; font-weight:bold'>Functions</span>"
   ]
  },
  {
   "cell_type": "code",
   "execution_count": 11,
   "metadata": {},
   "outputs": [],
   "source": [
    "def significant_curvature_difference(curvature, point, n_rings, threshold=1.0):\n",
    "    neighbors_flat = list()\n",
    "    neighbors = mesh.point_neighbors_levels(point, n_rings)\n",
    "\n",
    "    for i, neighbor in enumerate(neighbors):\n",
    "        neighbors_flat.extend(neighbor)\n",
    "\n",
    "    if len(neighbors_flat) == 0:\n",
    "        raise Exception(\"The point has no neighbor\")\n",
    "\n",
    "    avg_curvature = np.mean(curvature[list(neighbors_flat)])\n",
    "\n",
    "    # std_curvature = np.std(neighbor_curvatures)\n",
    "    # if abs(std_curvature - avg_curvature) > threshold * std_curvature:\n",
    "\n",
    "    return abs(curvature[point] - avg_curvature) >= threshold\n",
    "    \n",
    "def local_max_curvature_point(curvature, founded_points: list|set):\n",
    "    if len(founded_points) == len(curvature): raise Exception(\"Has visited all points\")\n",
    "    curvature_copy = copy.deepcopy(curvature)\n",
    "    for point in founded_points:\n",
    "        curvature_copy[point] = -(math.inf)\n",
    "    return np.argmax(curvature_copy)\n",
    "\n",
    "def propagate_with_curvature_threshold(curvature, propagated, start_point, threshold):\n",
    "    # threshold = np.percentile(mean_curvature, 90)\n",
    "    if curvature[start_point] < threshold:\n",
    "        raise Exception(\"Starting point does not satisfy curvature threshold\")\n",
    "\n",
    "    visited = set()\n",
    "    queue = deque([start_point])  \n",
    "    result = set()\n",
    "\n",
    "    result.add(start_point)\n",
    "\n",
    "    while queue:\n",
    "\n",
    "        point = queue.popleft()\n",
    "        if point in visited:\n",
    "            continue\n",
    "        visited.add(point)\n",
    "\n",
    "        for neighbor in mesh.point_neighbors(point):\n",
    "            if neighbor not in visited and neighbor not in propagated:\n",
    "                if curvature[neighbor] >= threshold:\n",
    "                    result.add(neighbor)\n",
    "                    queue.append(neighbor)\n",
    "    if result: \n",
    "        propagated.update(result)\n",
    "        return result\n",
    "    else: raise Exception(\"Propagation result is empty\")\n",
    "\n",
    "def local_max_curvature_point_on_edge(curvature, visited, max_points_on_edge:list):\n",
    "    while True:\n",
    "        max_point = local_max_curvature_point(curvature, visited)\n",
    "        if not significant_curvature_difference(curvature, max_point, n_rings=2, threshold=1.0):\n",
    "            max_points_on_edge.append(max_point)\n",
    "            visited.add(max_point)\n",
    "            break\n",
    "        visited.add(max_point)\n",
    "\n",
    "    print(f\"Number of visited: {len(visited)}\")\n",
    "    print(f\"Number of max_points_on_edge: {len(max_points_on_edge)}\")\n",
    "\n",
    "def scene_setting(plotter, edges: list|set=None, title: str=None, position: tuple=None):\n",
    "\n",
    "    def list_has_sublist_or_subset(lst):\n",
    "        return any(isinstance(e, list|set) for e in lst)\n",
    "    \n",
    "    if position: plotter.subplot(*position)\n",
    "    if title: plotter.add_text(title)\n",
    "    if edges:\n",
    "        if list_has_sublist_or_subset(edges):\n",
    "            for i, edge in enumerate(edges):\n",
    "                plotter.add_mesh(mesh.points[(list(edge))], color=colors[i], point_size=10, render_points_as_spheres=True)    \n",
    "        else: \n",
    "            plotter.add_mesh(mesh.points[(list(edges))], color=colors[0], point_size=10, render_points_as_spheres=True)    \n",
    "             \n",
    "    plotter.add_mesh(mesh.points[max_points_on_edge], color='white', point_size=12, render_points_as_spheres=True)\n",
    "    plotter.add_mesh(mesh, show_edges=True, scalars=curvature, clim=clim)\n",
    "\n",
    "# def screenshot():\n",
    "    # import os\n",
    "    # plotter = pv.Plotter(off_screen=True)\n",
    "    # scene_setting(plotter)\n",
    "\n",
    "    # for name, view in camera_views.items():\n",
    "    #     plotter.camera_position = view\n",
    "    #     plotter.screenshot(os.path.join(save_dir, f\"result_{name}.png\"))\n",
    "    # plotter.close()\n",
    "\n",
    "def erose_condition(edge, point, condition: str, n_rings=1):\n",
    "    neighbors = mesh.point_neighbors_levels(point, n_levels=n_rings)\n",
    "    neighbors = set().union(*neighbors)\n",
    "\n",
    "    def most(iterable):\n",
    "        lst = list(iterable)\n",
    "        return sum(bool(x) for x in lst) > len(lst) // 2\n",
    "\n",
    "    if condition == \"most\":\n",
    "        return most(neighbor in edge for neighbor in neighbors)\n",
    "\n",
    "    if condition == \"all\":\n",
    "        return all(neighbor in edge for neighbor in neighbors)\n",
    "\n",
    "def erosion(edge, condition: str = \"most\", n_rings=1, iterations=1, single_line: bool=False):\n",
    "    '''\n",
    "    Input: List of points as edge\n",
    "    Output: List of points after removal\n",
    "    Algorithm: If all or most n_ring_neighbors of a point belong to edge -> Keep the point\n",
    "               Otherwise, remove the point\n",
    "    '''\n",
    "    edge_copy = set(copy.deepcopy(edge))\n",
    "\n",
    "    while iterations != 0:\n",
    "        removal_points = set()\n",
    "\n",
    "        for point in edge_copy:\n",
    "            if not erose_condition(edge_copy, point, condition=condition, n_rings=n_rings):\n",
    "                removal_points.add(point)\n",
    "        \n",
    "        edge_copy.difference_update(removal_points)\n",
    "        iterations -= 1\n",
    "    return edge_copy"
   ]
  },
  {
   "cell_type": "markdown",
   "metadata": {},
   "source": [
    "<span style='color:#008000; font-size:20pt; font-weight:bold'>Rendering</span>"
   ]
  },
  {
   "cell_type": "code",
   "execution_count": 12,
   "metadata": {},
   "outputs": [
    {
     "name": "stdout",
     "output_type": "stream",
     "text": [
      "Number of visited: 523\n",
      "Number of max_points_on_edge: 1\n",
      "** Iteration 0: 1047 points | Max Curvature: 10.8613 | Average Curvature: 4.4249\n",
      "Number of visited: 1786\n",
      "Number of max_points_on_edge: 2\n",
      "** Iteration 1: 3685 points | Max Curvature: 9.6082 | Average Curvature: 4.0768\n",
      "Number of visited: 5490\n",
      "Number of max_points_on_edge: 3\n",
      "** Iteration 2: 1482 points | Max Curvature: 9.4557 | Average Curvature: 3.0880\n",
      "Number of visited: 7008\n",
      "Number of max_points_on_edge: 4\n",
      "** Iteration 3: 11861 points | Max Curvature: 9.1650 | Average Curvature: 2.8787\n"
     ]
    },
    {
     "data": {
      "application/vnd.jupyter.widget-view+json": {
       "model_id": "367bb6e8ef364caf857f2c99ef664c98",
       "version_major": 2,
       "version_minor": 0
      },
      "text/plain": [
       "Widget(value='<iframe src=\"http://localhost:57575/index.html?ui=P_0x27a73143af0_2&reconnect=auto\" class=\"pyvis…"
      ]
     },
     "metadata": {},
     "output_type": "display_data"
    }
   ],
   "source": [
    "all_point_ids = list(range(mesh.n_points))\n",
    "visited = set()\n",
    "max_points_on_edge = list()\n",
    "edge_vertices = list()\n",
    "\n",
    "iterations = 4\n",
    "thresholds = [2, 1.8, 1.5, 1]\n",
    "\n",
    "colors = ['red', 'dodgerblue', 'green', 'yellow', 'magenta', 'orangered', 'chocolate']\n",
    "\n",
    "# camera_views = {\n",
    "#         \"xy_top\": \"xy\",\n",
    "#         \"xz_front\": \"xz\",\n",
    "#         \"yz_side\": \"yz\",\n",
    "#         \"iso_view\": \"iso\",\n",
    "#         \"corner_1\": [-1, -1, 1],\n",
    "#         \"corner_2\": [1, 1, 1],\n",
    "#         \"corner_3\": [-1, 1, 1],\n",
    "#         \"corner_4\": [1, -1, 1],\n",
    "#         \"bottom_up\": [0, 0, -1],\n",
    "#     }\n",
    "\n",
    "# save_dir = \"screenshots\"\n",
    "\n",
    "for i in range(iterations):\n",
    "    local_max_curvature_point_on_edge(curvature, visited, max_points_on_edge)\n",
    "    edge = propagate_with_curvature_threshold(curvature, visited, max_points_on_edge[i], thresholds[i])\n",
    "    if edge:\n",
    "        edge_vertices.append(edge)\n",
    "        print(f\"** Iteration {i}: {len(edge)} points | Max Curvature: {curvature[max_points_on_edge[i]]:.4f} | Average Curvature: {np.mean(curvature[list(edge)]):.4f}\")\n",
    "    else:\n",
    "        print(f\"** Iteration {i}: No points propagated — threshold = {thresholds[i]:.2f}\")\n",
    "\n",
    "erosed_edges_all = list()\n",
    "erosed_edges_most = list()\n",
    "\n",
    "\n",
    "for edge in edge_vertices:\n",
    "    erosed = erosion(edge, condition=\"all\")\n",
    "    erosed_edges_all.append(erosed)\n",
    "\n",
    "for edge in edge_vertices:\n",
    "    erosed = erosion(edge, condition=\"most\")\n",
    "    erosed_edges_most.append(erosed)\n",
    "\n",
    "plotter = pv.Plotter(shape=(2, 2))\n",
    "\n",
    "scene_setting(plotter, title=\"Mesh\", position=(0, 0))\n",
    "scene_setting(plotter, erosed_edges_all, title=\"Edges\", position=(0, 1))\n",
    "scene_setting(plotter, erosed_edges_all, title=\"Erode: 'all' 1 time\", position=(1, 0))\n",
    "scene_setting(plotter, erosed_edges_most, title=\"Erode: 'most' 1 time\", position=(1, 1))\n",
    "\n",
    "plotter.show(cpos='xy')"
   ]
  }
 ],
 "metadata": {
  "kernelspec": {
   "display_name": "Project3D",
   "language": "python",
   "name": "python3"
  },
  "language_info": {
   "codemirror_mode": {
    "name": "ipython",
    "version": 3
   },
   "file_extension": ".py",
   "mimetype": "text/x-python",
   "name": "python",
   "nbconvert_exporter": "python",
   "pygments_lexer": "ipython3",
   "version": "3.10.11"
  }
 },
 "nbformat": 4,
 "nbformat_minor": 2
}
